{
  "nbformat": 4,
  "nbformat_minor": 0,
  "metadata": {
    "colab": {
      "provenance": [],
      "gpuType": "T4",
      "mount_file_id": "18oBS1Hn8rM3HLsHuGUTEgChcDL-rov5U",
      "authorship_tag": "ABX9TyPKu684+LeTA5rvIHNLs0K4",
      "include_colab_link": true
    },
    "kernelspec": {
      "name": "python3",
      "display_name": "Python 3"
    },
    "language_info": {
      "name": "python"
    },
    "accelerator": "GPU"
  },
  "cells": [
    {
      "cell_type": "markdown",
      "metadata": {
        "id": "view-in-github",
        "colab_type": "text"
      },
      "source": [
        "<a href=\"https://colab.research.google.com/github/AbdulMajeedKhan/PIAIC83322-BATCH-66-CAE-Projects/blob/main/Batch_66_Project_03.ipynb\" target=\"_parent\"><img src=\"https://colab.research.google.com/assets/colab-badge.svg\" alt=\"Open In Colab\"/></a>"
      ]
    },
    {
      "cell_type": "code",
      "execution_count": 2,
      "metadata": {
        "colab": {
          "base_uri": "https://localhost:8080/"
        },
        "id": "C7pBUI949Kb-",
        "outputId": "d2a26e4f-ef96-4622-bd6a-330bc2052790"
      },
      "outputs": [
        {
          "output_type": "stream",
          "name": "stdout",
          "text": [
            "is 8 too high (H), too low (L), or correct (C) ? :h\n",
            "is 3 too high (H), too low (L), or correct (C) ? :l\n",
            "is 5 too high (H), too low (L), or correct (C) ? :c\n",
            "Yay! The computer guessed your number, 5, correctly!\n"
          ]
        }
      ],
      "source": [
        "# Project 3\n",
        "# Guess the Number Game Python Project (user)\n",
        "# you will build a guessing game where the computer has to guess the correct number. You will work with Python's random module, build functions, work with while loops and conditionals, and get user input.\n",
        "# My Name is: Abdul Majeed\n",
        "# My Roll Number: PIAIC83322\n",
        "# My Batch #: 66\n",
        "# Class evening at SBSA on every saturday\n",
        "\n",
        "import random\n",
        "\n",
        "low=1\n",
        "high=10\n",
        "feedback=''\n",
        "\n",
        "while feedback !='c':\n",
        "    guess=random.randint(low,high)\n",
        "    feedback=input(f\"is {guess} too high (H), too low (L), or correct (C) ? :\").lower()\n",
        "    if feedback=='h':\n",
        "      high=guess-1\n",
        "    elif feedback=='l':\n",
        "      low=guess+1\n",
        "\n",
        "print(f'Yay! The computer guessed your number, {guess}, correctly!')\n",
        "\n",
        "\n"
      ]
    }
  ]
}