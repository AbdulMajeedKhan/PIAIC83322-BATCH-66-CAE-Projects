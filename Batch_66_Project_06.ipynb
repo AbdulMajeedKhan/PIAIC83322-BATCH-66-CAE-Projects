{
  "nbformat": 4,
  "nbformat_minor": 0,
  "metadata": {
    "colab": {
      "provenance": [],
      "gpuType": "T4",
      "mount_file_id": "1z9WDlKB_jqitHwBgNsdkOkhCliG8aXUh",
      "authorship_tag": "ABX9TyPijHUPKtstx57T2vt5Phha",
      "include_colab_link": true
    },
    "kernelspec": {
      "name": "python3",
      "display_name": "Python 3"
    },
    "language_info": {
      "name": "python"
    },
    "accelerator": "GPU"
  },
  "cells": [
    {
      "cell_type": "markdown",
      "metadata": {
        "id": "view-in-github",
        "colab_type": "text"
      },
      "source": [
        "<a href=\"https://colab.research.google.com/github/AbdulMajeedKhan/PIAIC83322-BATCH-66-CAE-Projects/blob/main/Batch_66_Project_06.ipynb\" target=\"_parent\"><img src=\"https://colab.research.google.com/assets/colab-badge.svg\" alt=\"Open In Colab\"/></a>"
      ]
    },
    {
      "cell_type": "code",
      "execution_count": null,
      "metadata": {
        "colab": {
          "base_uri": "https://localhost:8080/"
        },
        "id": "bJ4RoWDtwReU",
        "outputId": "814ebae2-e102-4018-9a53-486d1b01eef3"
      },
      "outputs": [
        {
          "output_type": "stream",
          "name": "stdout",
          "text": [
            "wlcome to countdown timer\n",
            "Enter the time in seconds:10\n",
            "00:10\n",
            "00:09\n",
            "00:08\n",
            "00:07\n",
            "00:06\n",
            "00:05\n",
            "00:04\n",
            "00:03\n",
            "00:02\n",
            "00:01\n",
            "Timer is completed!\n"
          ]
        }
      ],
      "source": [
        "# you will learn how to build a countdown timer using the time Python module.\n",
        "# Project 6 Countdown Timer Python Project\n",
        "# My Name is: Abdul Majeed\n",
        "# My Roll Number: PIAIC83322\n",
        "# My Batch #: 66\n",
        "# Class evening at SBSA on every saturday\n",
        "\n",
        "import time\n",
        "\n",
        "print(\"wlcome to countdown timer\")\n",
        "my_timer=int(input(\"Enter the time in seconds:\"))\n",
        "\n",
        "for x in range(my_timer,0,-1):\n",
        "  seconds=x % 60\n",
        "  minuts=int(x/60)%60\n",
        "  print(f\"{minuts:02}:{seconds:02}\")\n",
        "\n",
        "  time.sleep(1)\n",
        "\n",
        "print(\"Timer is completed!\")\n",
        "\n",
        "\n",
        "\n",
        "\n",
        "\n",
        "\n",
        "\n",
        "\n",
        "\n"
      ]
    }
  ]
}