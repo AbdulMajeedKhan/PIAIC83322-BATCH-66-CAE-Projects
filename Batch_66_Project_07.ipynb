{
  "nbformat": 4,
  "nbformat_minor": 0,
  "metadata": {
    "colab": {
      "provenance": [],
      "mount_file_id": "1__01DkQBE5slUNxJJuTdum9Trmm60mWX",
      "authorship_tag": "ABX9TyOMhqKR8pbROL1x6nBiROV1",
      "include_colab_link": true
    },
    "kernelspec": {
      "name": "python3",
      "display_name": "Python 3"
    },
    "language_info": {
      "name": "python"
    }
  },
  "cells": [
    {
      "cell_type": "markdown",
      "metadata": {
        "id": "view-in-github",
        "colab_type": "text"
      },
      "source": [
        "<a href=\"https://colab.research.google.com/github/AbdulMajeedKhan/PIAIC83322-BATCH-66-CAE-Projects/blob/main/Batch_66_Project_07.ipynb\" target=\"_parent\"><img src=\"https://colab.research.google.com/assets/colab-badge.svg\" alt=\"Open In Colab\"/></a>"
      ]
    },
    {
      "cell_type": "code",
      "execution_count": 4,
      "metadata": {
        "colab": {
          "base_uri": "https://localhost:8080/"
        },
        "id": "QLEFfS2j_1PX",
        "outputId": "00ed9ef7-4f92-4f4f-9eaa-755c6a006072"
      },
      "outputs": [
        {
          "output_type": "stream",
          "name": "stdout",
          "text": [
            "Welcome to password generator!\n",
            "\n",
            "Enter number of password to generate:4\n",
            "\n",
            "Enter your password lenght:3\n",
            "\n",
            "\n",
            " Your passwords list are below:\n",
            "\n",
            "your password :01 is CGH\n",
            "your password :02 is mRa\n",
            "your password :03 is mzL\n",
            "your password :04 is WF@\n",
            "\n",
            "\n",
            "All your password generated!\n"
          ]
        }
      ],
      "source": [
        "# you will learn how to build a random password generator. You will collect data from the user on the number of passwords and their lengths and output a collection of passwords with random characters.\n",
        "# Project 7 Password Generator Python Project\n",
        "# My Name is: Abdul Majeed\n",
        "# My Roll Number: PIAIC83322\n",
        "# My Batch #: 66\n",
        "# Class evening at SBSA on every saturday\n",
        "\n",
        "import random\n",
        "\n",
        "print(\"Welcome to password generator!\\n\")\n",
        "\n",
        "char_list='abcdefghijklmnopqrstuvwxyzABCDEFGHIJKLMNOPQRSTUVWXYZ@#$%&'\n",
        "number_of_password_toGenerate=int(input(\"Enter number of password to generate:\"))\n",
        "lenght_of_passowrd=int(input(\"\\nEnter your password lenght:\"))\n",
        "\n",
        "print(\"\\n\\n Your passwords list are below:\\n\")\n",
        "\n",
        "for pwd in range(number_of_password_toGenerate):\n",
        "  password=''\n",
        "  for c in range (lenght_of_passowrd):\n",
        "    password += random.choice(char_list)\n",
        "  print(f\"your password :{pwd+1:02} is {password}\")\n",
        "\n",
        "print(\"\\n\\nAll your password generated!\")\n",
        "\n",
        "\n"
      ]
    }
  ]
}