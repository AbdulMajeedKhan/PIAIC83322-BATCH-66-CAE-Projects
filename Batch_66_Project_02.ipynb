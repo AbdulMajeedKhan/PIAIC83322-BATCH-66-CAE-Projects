{
  "nbformat": 4,
  "nbformat_minor": 0,
  "metadata": {
    "colab": {
      "provenance": [],
      "gpuType": "T4",
      "mount_file_id": "1j6jTyiDDciEWFbCO9X6HojLDSf5umXwM",
      "authorship_tag": "ABX9TyOr7vwv2vQxUeFMjxIztyF5",
      "include_colab_link": true
    },
    "kernelspec": {
      "name": "python3",
      "display_name": "Python 3"
    },
    "language_info": {
      "name": "python"
    },
    "accelerator": "GPU"
  },
  "cells": [
    {
      "cell_type": "markdown",
      "metadata": {
        "id": "view-in-github",
        "colab_type": "text"
      },
      "source": [
        "<a href=\"https://colab.research.google.com/github/AbdulMajeedKhan/PIAIC83322-BATCH-66-CAE-Projects/blob/main/Batch_66_Project_02.ipynb\" target=\"_parent\"><img src=\"https://colab.research.google.com/assets/colab-badge.svg\" alt=\"Open In Colab\"/></a>"
      ]
    },
    {
      "cell_type": "code",
      "execution_count": null,
      "metadata": {
        "id": "JvyOp8CA8qF8",
        "colab": {
          "base_uri": "https://localhost:8080/"
        },
        "outputId": "d1a4b6ff-7870-4c5c-9e80-5768ff84873d"
      },
      "outputs": [
        {
          "output_type": "stream",
          "name": "stdout",
          "text": [
            "Enter number between 1 to 10:8\n",
            "\n",
            " Your enter number is too low, Try again!\n",
            "Enter number between 1 to 10:9\n",
            "\n",
            " Congrats, You have guessed the correct number ....... \n"
          ]
        }
      ],
      "source": [
        "# how to work with Python's random module, build functions, work with while loops and conditionals, and get user input.\n",
        "# Project 2 Guess the Number Game Python Project (computer)\n",
        "# My Name is: Abdul Majeed\n",
        "# My Roll Number: PIAIC83322\n",
        "# My Batch #: 66\n",
        "# Class evening at SBSA on every saturday\n",
        "\n",
        "import random\n",
        "\n",
        "Random_Number=random.randint(1,10)\n",
        "Guess_Number=0\n",
        "lives=0\n",
        "\n",
        "while Guess_Number != Random_Number:\n",
        "  if lives==3:\n",
        "    print(f\"\\n Correct random number is:{Random_Number} \\n Now game is over..\")\n",
        "    break\n",
        "  Guess_Number=int(input(\"Enter number between 1 to 10:\"))\n",
        "  if Guess_Number>Random_Number:\n",
        "    print(\"\\nYour enter number is too high, Try again!\")\n",
        "  elif Guess_Number<Random_Number:\n",
        "    print(\"\\n Your enter number is too low, Try again!\")\n",
        "  else:\n",
        "    print(\"\\n Congrats, You have guessed the correct number ....... \")\n",
        "  lives+=1\n",
        "\n",
        "\n",
        "\n",
        "\n",
        "\n"
      ]
    },
    {
      "cell_type": "code",
      "source": [],
      "metadata": {
        "id": "PVMt2NIA37or"
      },
      "execution_count": null,
      "outputs": []
    }
  ]
}