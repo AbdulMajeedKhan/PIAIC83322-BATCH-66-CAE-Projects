{
  "nbformat": 4,
  "nbformat_minor": 0,
  "metadata": {
    "colab": {
      "provenance": [],
      "mount_file_id": "1sIniF4LTFUR04mwGAcSuYpA3x4ZJ8XNF",
      "authorship_tag": "ABX9TyP1hLQRyVZK+uUM9wUh6Gkt",
      "include_colab_link": true
    },
    "kernelspec": {
      "name": "python3",
      "display_name": "Python 3"
    },
    "language_info": {
      "name": "python"
    }
  },
  "cells": [
    {
      "cell_type": "markdown",
      "metadata": {
        "id": "view-in-github",
        "colab_type": "text"
      },
      "source": [
        "<a href=\"https://colab.research.google.com/github/AbdulMajeedKhan/PIAIC83322-BATCH-66-CAE-Projects/blob/main/Batch_66_Project_05.ipynb\" target=\"_parent\"><img src=\"https://colab.research.google.com/assets/colab-badge.svg\" alt=\"Open In Colab\"/></a>"
      ]
    },
    {
      "cell_type": "code",
      "execution_count": 1,
      "metadata": {
        "colab": {
          "base_uri": "https://localhost:8080/"
        },
        "id": "6Zeuv-GJ5Lid",
        "outputId": "2a02aefe-6b06-4d53-f8fc-97b65f27fa9d"
      },
      "outputs": [
        {
          "output_type": "stream",
          "name": "stdout",
          "text": [
            "Guess the word! HINT: word is a name of a fruit\n",
            "_ _ _ _ _ \n",
            "\n",
            "Enter a letter to guess: a\n",
            "_ _ a _ _ \n",
            "Enter a letter to guess: p\n",
            "p _ a _ _ \n",
            "Enter a letter to guess: y\n",
            "p _ a _ _ \n",
            "Enter a letter to guess: a\n",
            "You have already guessed that letter\n",
            "\n",
            "Enter a letter to guess: p\n",
            "You have already guessed that letter\n",
            "\n",
            "Enter a letter to guess: i\n",
            "p _ a _ _ \n",
            "Enter a letter to guess: e\n",
            "p e a _ _ \n",
            "You lost! Try again..\n",
            "The word was peach\n"
          ]
        }
      ],
      "source": [
        "# you will learn how to work with dictionaries, lists, and nested if statements. You will also learn how to work with the string and random Python modules.\n",
        "# Project 5 Hangman Python Project\n",
        "# My Name is: Abdul Majeed\n",
        "# My Roll Number: PIAIC83322\n",
        "# My Batch #: 66\n",
        "# Class evening at SBSA on every saturday\n",
        "\n",
        "import random\n",
        "from collections import Counter\n",
        "\n",
        "someWords = '''apple banana mango strawberry\n",
        "orange grape pineapple apricot lemon coconut watermelon\n",
        "cherry papaya berry peach lychee muskmelon'''\n",
        "\n",
        "someWords = someWords.split(' ')\n",
        "\n",
        "word = random.choice(someWords)\n",
        "\n",
        "if __name__ == '__main__':\n",
        "    print('Guess the word! HINT: word is a name of a fruit')\n",
        "\n",
        "    for i in word:\n",
        "        print('_', end=' ')\n",
        "    print()\n",
        "\n",
        "    playing = True\n",
        "    # List for storing the letters guessed by the player\n",
        "    letterGuessed = ''\n",
        "    chances = len(word) + 2\n",
        "    correct = 0\n",
        "    flag = 0\n",
        "    try:\n",
        "        while (chances != 0) and flag == 0:\n",
        "            print()\n",
        "            chances -= 1\n",
        "\n",
        "            try:\n",
        "                guess = str(input('Enter a letter to guess: '))\n",
        "            except:\n",
        "                print('Enter only a letter!')\n",
        "                continue\n",
        "            if not guess.isalpha():\n",
        "                print('Enter only a LETTER')\n",
        "                continue\n",
        "            elif len(guess) > 1:\n",
        "                print('Enter only a SINGLE letter')\n",
        "                continue\n",
        "            elif guess in letterGuessed:\n",
        "                print('You have already guessed that letter')\n",
        "                continue\n",
        "            if guess in word:\n",
        "                k = word.count(guess)\n",
        "                for _ in range(k):\n",
        "                    letterGuessed += guess\n",
        "            for char in word:\n",
        "                if char in letterGuessed and (Counter(letterGuessed) != Counter(word)):\n",
        "                    print(char, end=' ')\n",
        "                    correct += 1\n",
        "                elif (Counter(letterGuessed) == Counter(word)):\n",
        "                    print(\"The word is: \", end=' ')\n",
        "                    print(word)\n",
        "                    flag = 1\n",
        "                    print('Congratulations, You won!')\n",
        "                    break\n",
        "                    break\n",
        "                else:\n",
        "                    print('_', end=' ')\n",
        "        if chances <= 0 and (Counter(letterGuessed) != Counter(word)):\n",
        "            print()\n",
        "            print('You lost! Try again..')\n",
        "            print('The word was {}'.format(word))\n",
        "\n",
        "    except KeyboardInterrupt:\n",
        "        print()\n",
        "        print('Bye! Try again.')\n",
        "        exit()\n"
      ]
    }
  ]
}