{
  "nbformat": 4,
  "nbformat_minor": 0,
  "metadata": {
    "colab": {
      "provenance": [],
      "toc_visible": true,
      "gpuType": "T4",
      "authorship_tag": "ABX9TyOk8rV6HJjqmkj8hPo3mLKq",
      "include_colab_link": true
    },
    "kernelspec": {
      "name": "python3",
      "display_name": "Python 3"
    },
    "language_info": {
      "name": "python"
    },
    "accelerator": "GPU"
  },
  "cells": [
    {
      "cell_type": "markdown",
      "metadata": {
        "id": "view-in-github",
        "colab_type": "text"
      },
      "source": [
        "<a href=\"https://colab.research.google.com/github/AbdulMajeedKhan/PIAIC83322-BATCH-66-CAE-Projects/blob/main/Batch_66_Project_4.ipynb\" target=\"_parent\"><img src=\"https://colab.research.google.com/assets/colab-badge.svg\" alt=\"Open In Colab\"/></a>"
      ]
    },
    {
      "cell_type": "code",
      "execution_count": null,
      "metadata": {
        "colab": {
          "base_uri": "https://localhost:8080/"
        },
        "id": "vPgZfhoGtlJ0",
        "outputId": "72774c56-32a6-4183-cd2f-90775cee7208"
      },
      "outputs": [
        {
          "output_type": "stream",
          "name": "stdout",
          "text": [
            "Welcome to Rock, Paper, Scissors game! \n",
            "\n",
            "Enter a choice \n",
            " (rock,paper,scissors):rock\n",
            "\n",
            "You chose rock, computer chose scissors\n",
            "Rock break the scissors! You win!\n"
          ]
        }
      ],
      "source": [
        "# you will work with random.choice(), if statements, and getting user input. This is a great project to help you build on the fundamentals like conditionals and functions.\n",
        "# Project 4 Rock, paper, scissors Python Project\n",
        "# My Name is: Abdul Majeed\n",
        "# My Roll Number: PIAIC83322\n",
        "# My Batch #: 66\n",
        "# Class evening at SBSA on every saturday\n",
        "\n",
        "import random\n",
        "print(\"Welcome to Rock, Paper, Scissors game! \\n\")\n",
        "user=input('Enter a choice \\n (rock,paper,scissors):')\n",
        "possible_actions=['rock','paper','scissors']\n",
        "computer=random.choice(possible_actions)\n",
        "print(f'\\nYou chose {user}, computer chose {computer}')\n",
        "if user==computer:\n",
        "    print(f'Both players selected same action. It is a tie')\n",
        "elif user=='rock':\n",
        "    if computer=='scissors':\n",
        "      print('Rock break the scissors! You win!')\n",
        "elif user=='paper':\n",
        "    if computer=='rock':\n",
        "      print('Paper covers the rock. You win!')\n",
        "elif user=='scissors':\n",
        "    if computer=='paper':\n",
        "      print('scissors cuts the paper. You win!')\n",
        "\n",
        "\n",
        "\n"
      ]
    }
  ]
}