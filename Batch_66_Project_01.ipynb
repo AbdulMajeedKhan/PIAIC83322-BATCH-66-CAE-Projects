{
  "nbformat": 4,
  "nbformat_minor": 0,
  "metadata": {
    "colab": {
      "provenance": [],
      "gpuType": "T4",
      "mount_file_id": "105sWftok936Ti_wxEUKn1ovVrz6YtV6i",
      "authorship_tag": "ABX9TyNeXJBdlYlGETDliz8LjTz7",
      "include_colab_link": true
    },
    "kernelspec": {
      "name": "python3",
      "display_name": "Python 3"
    },
    "language_info": {
      "name": "python"
    },
    "accelerator": "GPU"
  },
  "cells": [
    {
      "cell_type": "markdown",
      "metadata": {
        "id": "view-in-github",
        "colab_type": "text"
      },
      "source": [
        "<a href=\"https://colab.research.google.com/github/AbdulMajeedKhan/PIAIC83322-BATCH-66-CAE-Projects/blob/main/Batch_66_Project_01.ipynb\" target=\"_parent\"><img src=\"https://colab.research.google.com/assets/colab-badge.svg\" alt=\"Open In Colab\"/></a>"
      ]
    },
    {
      "cell_type": "code",
      "source": [
        "# @title Default title text\n",
        "# Project 01\n",
        "# how to get input from the user, work with f-strings, and see your results printed to the console.\n",
        "# get input and save in veriable\n",
        "# My Name is Abdul Majeed\n",
        "# My Roll Number : PIAIC83322\n",
        "# Class evening at SBSA on every saturday\n",
        "\n",
        "Name=input(\"Enter Your Name: \")\n",
        "Roll_Number=input(\"Enter Roll #: \")\n",
        "Class_At=input(\"Enter your class at onsite or online: \")\n",
        "Class_Location=input(\"Enter your class at: \\n SBSA Sindh Boy Scouts Association\\n UIT Usman Institute of Technology\\n BA Bahira Auditorium \\n GHK Governer House Karachi:\\n\")\n",
        "print(\"\\n\\n\")\n",
        "print(f\" Your Name is: {Name} \\n Your Roll Number is:{Roll_Number}\\n Your Class is:{Class_At}\\n Your class location is:{Class_Location}\")\n",
        "print(\"\\n\\nThanks for your inputs\")\n"
      ],
      "metadata": {
        "colab": {
          "base_uri": "https://localhost:8080/"
        },
        "id": "O-aBbNeQlNo1",
        "outputId": "4e8f8c5e-75a3-479b-b991-e4553450e2da",
        "cellView": "code"
      },
      "execution_count": 1,
      "outputs": [
        {
          "output_type": "stream",
          "name": "stdout",
          "text": [
            "Enter Your Name: Abdul Majeed Khan\n",
            "Enter Roll #: PIAIC83322\n",
            "Enter your class at onsite or online: onsite\n",
            "Enter your class at: \n",
            " SBSA Sindh Boy Scouts Association\n",
            " UIT Usman Institute of Technology\n",
            " BA Bahira Auditorium \n",
            " GHK Governer House Karachi:\n",
            "SBSA\n",
            "\n",
            "\n",
            "\n",
            " Your Name is: Abdul Majeed Khan \n",
            " Your Roll Number is:PIAIC83322\n",
            " Your Class is:onsite\n",
            " Your class location is:SBSA\n",
            "\n",
            "\n",
            "Thanks for your inputs\n"
          ]
        }
      ]
    },
    {
      "cell_type": "code",
      "source": [],
      "metadata": {
        "id": "WMkVDqavvLHq"
      },
      "execution_count": null,
      "outputs": []
    }
  ]
}